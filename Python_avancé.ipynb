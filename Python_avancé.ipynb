{
  "nbformat": 4,
  "nbformat_minor": 0,
  "metadata": {
    "colab": {
      "name": "Copie de Apprendre_Python.ipynb",
      "provenance": [],
      "collapsed_sections": [],
      "authorship_tag": "ABX9TyOj2dAX/QQIv8OsBjAC2ab0",
      "include_colab_link": true
    },
    "kernelspec": {
      "name": "python3",
      "display_name": "Python 3"
    }
  },
  "cells": [
    {
      "cell_type": "markdown",
      "metadata": {
        "id": "view-in-github",
        "colab_type": "text"
      },
      "source": [
        "<a href=\"https://colab.research.google.com/github/abdoulahat/Learn_Python/blob/master/Python_avanc%C3%A9.ipynb\" target=\"_parent\"><img src=\"https://colab.research.google.com/assets/colab-badge.svg\" alt=\"Open In Colab\"/></a>"
      ]
    },
    {
      "cell_type": "markdown",
      "metadata": {
        "id": "GGceTP8LhG-I",
        "colab_type": "text"
      },
      "source": [
        "Ce document est en cours. Je vais donner les détails de chacun des points. Merci de votre compréhension. "
      ]
    },
    {
      "cell_type": "markdown",
      "metadata": {
        "id": "6vWFJA_Ofasc",
        "colab_type": "text"
      },
      "source": [
        "# **Python : Functions**"
      ]
    },
    {
      "cell_type": "markdown",
      "metadata": {
        "id": "Vvs-mQVrrlHg",
        "colab_type": "text"
      },
      "source": [
        "### **1. How to use global variables in a function ?**"
      ]
    },
    {
      "cell_type": "code",
      "metadata": {
        "id": "092d6HNjrfS9",
        "colab_type": "code",
        "colab": {
          "base_uri": "https://localhost:8080/",
          "height": 123
        },
        "outputId": "3feb4307-a0a9-4657-cbbb-b385e1cc5592"
      },
      "source": [
        "# Global variable\n",
        "total = 100\n",
        " \n",
        "def test():\n",
        "    # Local variable\n",
        "    marks = 19\n",
        "    print('Marks = ', marks)\n",
        "    print('Total = ', total)\n",
        " \n",
        "def func1():\n",
        "    total = 15\n",
        " \n",
        "# Use of “global” keyword to modify global variable inside a function\n",
        "def func():\n",
        "    # refer to global variable 'total' inside function\n",
        "    global total\n",
        "    if total > 10:\n",
        "        total = 15\n",
        " \n",
        "def func2():\n",
        "    global total\n",
        "    if total > 10:\n",
        "        total = 15\n",
        "\n",
        "# Using globals() to access global variables inside the function\n",
        "def func3():\n",
        "    listOfGlobals = globals()\n",
        "    listOfGlobals['total'] = 11\n",
        "    total = 22\n",
        "    print('Local Total = ', total)\n",
        " \n",
        " \n",
        "def main():\n",
        "    print('Total = ', total)\n",
        "    func1()\n",
        "    print('Total = ', total)\n",
        "    func()\n",
        "    print('Total = ', total)\n",
        "    func2()\n",
        "    print('Total = ', total)\n",
        "    func3()\n",
        "    print('Total = ', total)\n",
        " \n",
        "if __name__ == '__main__':\n",
        "    main()"
      ],
      "execution_count": 1,
      "outputs": [
        {
          "output_type": "stream",
          "text": [
            "Total =  100\n",
            "Total =  100\n",
            "Total =  15\n",
            "Total =  15\n",
            "Local Total =  22\n",
            "Total =  11\n"
          ],
          "name": "stdout"
        }
      ]
    },
    {
      "cell_type": "markdown",
      "metadata": {
        "id": "yKz7329prv9G",
        "colab_type": "text"
      },
      "source": [
        "### **2. *args | How to pass multiple arguments to function ?**"
      ]
    },
    {
      "cell_type": "code",
      "metadata": {
        "id": "0xE8uAj5r27J",
        "colab_type": "code",
        "colab": {}
      },
      "source": [
        ""
      ],
      "execution_count": 0,
      "outputs": []
    },
    {
      "cell_type": "markdown",
      "metadata": {
        "id": "9EDdtXdgr3co",
        "colab_type": "text"
      },
      "source": [
        "### **3. **"
      ]
    },
    {
      "cell_type": "code",
      "metadata": {
        "id": "QczdIIzPr6Vi",
        "colab_type": "code",
        "colab": {}
      },
      "source": [
        ""
      ],
      "execution_count": 0,
      "outputs": []
    },
    {
      "cell_type": "markdown",
      "metadata": {
        "id": "q69fyo-kr60s",
        "colab_type": "text"
      },
      "source": [
        "### **4. **"
      ]
    },
    {
      "cell_type": "code",
      "metadata": {
        "id": "VxSeyYzQr9Vh",
        "colab_type": "code",
        "colab": {}
      },
      "source": [
        ""
      ],
      "execution_count": 0,
      "outputs": []
    },
    {
      "cell_type": "markdown",
      "metadata": {
        "id": "1HU2mMelr-BN",
        "colab_type": "text"
      },
      "source": [
        "### **5. **"
      ]
    },
    {
      "cell_type": "code",
      "metadata": {
        "id": "PsljeLl-r_2h",
        "colab_type": "code",
        "colab": {}
      },
      "source": [
        ""
      ],
      "execution_count": 0,
      "outputs": []
    },
    {
      "cell_type": "markdown",
      "metadata": {
        "id": "nQkxCGRusAS4",
        "colab_type": "text"
      },
      "source": [
        "### **6. **"
      ]
    },
    {
      "cell_type": "code",
      "metadata": {
        "id": "ccLF7m0HsGyb",
        "colab_type": "code",
        "colab": {}
      },
      "source": [
        ""
      ],
      "execution_count": 0,
      "outputs": []
    },
    {
      "cell_type": "markdown",
      "metadata": {
        "id": "uWeu9lCjsHPR",
        "colab_type": "text"
      },
      "source": [
        "### **7. **"
      ]
    },
    {
      "cell_type": "code",
      "metadata": {
        "id": "d0WcMOBfsJed",
        "colab_type": "code",
        "colab": {}
      },
      "source": [
        ""
      ],
      "execution_count": 0,
      "outputs": []
    },
    {
      "cell_type": "markdown",
      "metadata": {
        "id": "FeBBkKuOsJ71",
        "colab_type": "text"
      },
      "source": [
        "### **8. **"
      ]
    },
    {
      "cell_type": "code",
      "metadata": {
        "id": "1adeiWPxsLwe",
        "colab_type": "code",
        "colab": {}
      },
      "source": [
        ""
      ],
      "execution_count": 0,
      "outputs": []
    },
    {
      "cell_type": "markdown",
      "metadata": {
        "id": "uvOzs3G_sMKO",
        "colab_type": "text"
      },
      "source": [
        "### **9. **"
      ]
    },
    {
      "cell_type": "code",
      "metadata": {
        "id": "vHwuCL0LsOak",
        "colab_type": "code",
        "colab": {}
      },
      "source": [
        ""
      ],
      "execution_count": 0,
      "outputs": []
    },
    {
      "cell_type": "markdown",
      "metadata": {
        "id": "SWrewGDhsPJ-",
        "colab_type": "text"
      },
      "source": [
        "### **10. **"
      ]
    },
    {
      "cell_type": "markdown",
      "metadata": {
        "id": "EXUqJKIBfhDK",
        "colab_type": "text"
      },
      "source": [
        "## **Date and Time**"
      ]
    },
    {
      "cell_type": "markdown",
      "metadata": {
        "id": "Bp3xy9qAfpIj",
        "colab_type": "text"
      },
      "source": [
        "## **Python – CSV Tutorials**"
      ]
    },
    {
      "cell_type": "markdown",
      "metadata": {
        "id": "pQnKUTKxf-_A",
        "colab_type": "text"
      },
      "source": [
        "## **Process Management**"
      ]
    },
    {
      "cell_type": "markdown",
      "metadata": {
        "id": "73jXQHUdgEQ9",
        "colab_type": "text"
      },
      "source": [
        "## **Iterators & Generators**"
      ]
    },
    {
      "cell_type": "markdown",
      "metadata": {
        "id": "T0EHzZBOgMD_",
        "colab_type": "text"
      },
      "source": [
        "## **File Handling**"
      ]
    },
    {
      "cell_type": "markdown",
      "metadata": {
        "id": "_YxIUT2agQ2l",
        "colab_type": "text"
      },
      "source": [
        "## **Multi-threading in Python**"
      ]
    },
    {
      "cell_type": "markdown",
      "metadata": {
        "id": "jp_2chqzgVVF",
        "colab_type": "text"
      },
      "source": [
        "## **Zip & Unzip**"
      ]
    },
    {
      "cell_type": "markdown",
      "metadata": {
        "id": "jK5K31XUgZl7",
        "colab_type": "text"
      },
      "source": [
        "## **Python -Directories**"
      ]
    },
    {
      "cell_type": "code",
      "metadata": {
        "id": "Ps8lABBhoW-y",
        "colab_type": "code",
        "colab": {}
      },
      "source": [
        ""
      ],
      "execution_count": 0,
      "outputs": []
    }
  ]
}