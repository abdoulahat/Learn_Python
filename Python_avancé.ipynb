{
  "nbformat": 4,
  "nbformat_minor": 0,
  "metadata": {
    "colab": {
      "name": "Copie de Apprendre_Python.ipynb",
      "provenance": [],
      "collapsed_sections": [],
      "authorship_tag": "ABX9TyM7p5jj5ZZkbW6bCeQ7DtnP",
      "include_colab_link": true
    },
    "kernelspec": {
      "name": "python3",
      "display_name": "Python 3"
    }
  },
  "cells": [
    {
      "cell_type": "markdown",
      "metadata": {
        "id": "view-in-github",
        "colab_type": "text"
      },
      "source": [
        "<a href=\"https://colab.research.google.com/github/abdoulahat/Learn_Python/blob/master/Python_avanc%C3%A9.ipynb\" target=\"_parent\"><img src=\"https://colab.research.google.com/assets/colab-badge.svg\" alt=\"Open In Colab\"/></a>"
      ]
    },
    {
      "cell_type": "markdown",
      "metadata": {
        "id": "GGceTP8LhG-I",
        "colab_type": "text"
      },
      "source": [
        "Ce document est en cours. Je vais donner les détails de chacun des points. Merci de votre compréhension. "
      ]
    },
    {
      "cell_type": "markdown",
      "metadata": {
        "id": "6vWFJA_Ofasc",
        "colab_type": "text"
      },
      "source": [
        "## **Python : Functions**"
      ]
    },
    {
      "cell_type": "markdown",
      "metadata": {
        "id": "EXUqJKIBfhDK",
        "colab_type": "text"
      },
      "source": [
        "## **Date and Time**"
      ]
    },
    {
      "cell_type": "markdown",
      "metadata": {
        "id": "Bp3xy9qAfpIj",
        "colab_type": "text"
      },
      "source": [
        "## **Python – CSV Tutorials**"
      ]
    },
    {
      "cell_type": "markdown",
      "metadata": {
        "id": "pQnKUTKxf-_A",
        "colab_type": "text"
      },
      "source": [
        "## **Process Management**"
      ]
    },
    {
      "cell_type": "markdown",
      "metadata": {
        "id": "73jXQHUdgEQ9",
        "colab_type": "text"
      },
      "source": [
        "## **Iterators & Generators**"
      ]
    },
    {
      "cell_type": "markdown",
      "metadata": {
        "id": "T0EHzZBOgMD_",
        "colab_type": "text"
      },
      "source": [
        "## **File Handling**"
      ]
    },
    {
      "cell_type": "markdown",
      "metadata": {
        "id": "_YxIUT2agQ2l",
        "colab_type": "text"
      },
      "source": [
        "## **Multi-threading in Python**"
      ]
    },
    {
      "cell_type": "markdown",
      "metadata": {
        "id": "jp_2chqzgVVF",
        "colab_type": "text"
      },
      "source": [
        "## **Zip & Unzip**"
      ]
    },
    {
      "cell_type": "markdown",
      "metadata": {
        "id": "jK5K31XUgZl7",
        "colab_type": "text"
      },
      "source": [
        "## **Python -Directories**"
      ]
    },
    {
      "cell_type": "code",
      "metadata": {
        "id": "Ps8lABBhoW-y",
        "colab_type": "code",
        "colab": {}
      },
      "source": [
        ""
      ],
      "execution_count": 0,
      "outputs": []
    }
  ]
}