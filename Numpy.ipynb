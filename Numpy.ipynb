{
  "nbformat": 4,
  "nbformat_minor": 0,
  "metadata": {
    "colab": {
      "name": "Copie de Apprendre_Python.ipynb",
      "provenance": [],
      "collapsed_sections": [],
      "authorship_tag": "ABX9TyNzRzl6v2rdoIq8xvIimkq8",
      "include_colab_link": true
    },
    "kernelspec": {
      "name": "python3",
      "display_name": "Python 3"
    }
  },
  "cells": [
    {
      "cell_type": "markdown",
      "metadata": {
        "id": "view-in-github",
        "colab_type": "text"
      },
      "source": [
        "<a href=\"https://colab.research.google.com/github/abdoulahat/Learn_Python/blob/master/Numpy.ipynb\" target=\"_parent\"><img src=\"https://colab.research.google.com/assets/colab-badge.svg\" alt=\"Open In Colab\"/></a>"
      ]
    },
    {
      "cell_type": "markdown",
      "metadata": {
        "id": "GGceTP8LhG-I",
        "colab_type": "text"
      },
      "source": [
        "Ce document est en cours. Je vais donner les détails de chacun des points. Merci pour votre compréhension. "
      ]
    },
    {
      "cell_type": "markdown",
      "metadata": {
        "id": "2d58M37GoaI9",
        "colab_type": "text"
      },
      "source": [
        "##  **Python Numpy**\n",
        "### **1. Create a Numpy Array from list, tuple or list of lists using numpy.array()**"
      ]
    },
    {
      "cell_type": "code",
      "metadata": {
        "id": "WdUCVDf_oUnh",
        "colab_type": "code",
        "colab": {}
      },
      "source": [
        "import numpy as np"
      ],
      "execution_count": 0,
      "outputs": []
    },
    {
      "cell_type": "markdown",
      "metadata": {
        "id": "leOocmwHpZ8U",
        "colab_type": "text"
      },
      "source": [
        "**Create Numpy Array from a list**"
      ]
    },
    {
      "cell_type": "code",
      "metadata": {
        "id": "HEhTI6BGpCgW",
        "colab_type": "code",
        "outputId": "0805f606-77dd-4060-d370-c3c43c21be6b",
        "colab": {
          "base_uri": "https://localhost:8080/",
          "height": 51
        }
      },
      "source": [
        "npArray = np.array([1,2,3,4,5,6,7,8,9])\n",
        "print(f\"Contents of th npArray : \\n{npArray}\")"
      ],
      "execution_count": 0,
      "outputs": [
        {
          "output_type": "stream",
          "text": [
            "Contents of th npArray : \n",
            "[1 2 3 4 5 6 7 8 9]\n"
          ],
          "name": "stdout"
        }
      ]
    },
    {
      "cell_type": "markdown",
      "metadata": {
        "id": "stv4mrbnp283",
        "colab_type": "text"
      },
      "source": [
        "**Create Numpy Array from a tuple**"
      ]
    },
    {
      "cell_type": "code",
      "metadata": {
        "id": "xb6NPaL-pOum",
        "colab_type": "code",
        "outputId": "73b4d29a-82e2-4afd-d103-b3d1b91ed3ee",
        "colab": {
          "base_uri": "https://localhost:8080/",
          "height": 51
        }
      },
      "source": [
        "npArray = np.array((11,22,33,44,55,66,77,88))\n",
        "print(f\"Contents of th npArray : \\n{npArray}\")"
      ],
      "execution_count": 0,
      "outputs": [
        {
          "output_type": "stream",
          "text": [
            "Contents of th npArray : \n",
            "[11 22 33 44 55 66 77 88]\n"
          ],
          "name": "stdout"
        }
      ]
    },
    {
      "cell_type": "markdown",
      "metadata": {
        "id": "KW9hyOtFqGMJ",
        "colab_type": "text"
      },
      "source": [
        "**Check type of Numpy Array object**"
      ]
    },
    {
      "cell_type": "code",
      "metadata": {
        "id": "TJtCxx1FqCBi",
        "colab_type": "code",
        "outputId": "e3eeaaef-bc9d-419a-f0d1-1ccb0f5a6ed2",
        "colab": {
          "base_uri": "https://localhost:8080/",
          "height": 51
        }
      },
      "source": [
        "print(f\"type of the npArray : \\n{type(npArray)}\")"
      ],
      "execution_count": 0,
      "outputs": [
        {
          "output_type": "stream",
          "text": [
            "type of the npArray : \n",
            "<class 'numpy.ndarray'>\n"
          ],
          "name": "stdout"
        }
      ]
    },
    {
      "cell_type": "markdown",
      "metadata": {
        "id": "2a4v4RV2qXAN",
        "colab_type": "text"
      },
      "source": [
        "**Check the data type of elements in Numpy Array**"
      ]
    },
    {
      "cell_type": "code",
      "metadata": {
        "id": "yYtl_P9JqP5s",
        "colab_type": "code",
        "outputId": "bc3ffe2c-d143-4316-d2f6-5c43358e5c02",
        "colab": {
          "base_uri": "https://localhost:8080/",
          "height": 51
        }
      },
      "source": [
        "print(f\"Data Type of elements in  ndArray : \\n{npArray.dtype}\")"
      ],
      "execution_count": 0,
      "outputs": [
        {
          "output_type": "stream",
          "text": [
            "Data Type of elements in  ndArray : \n",
            "int64\n"
          ],
          "name": "stdout"
        }
      ]
    },
    {
      "cell_type": "markdown",
      "metadata": {
        "id": "3A-3pd4srnjH",
        "colab_type": "text"
      },
      "source": [
        "**Create 2D Numpy Array from a list of list**"
      ]
    },
    {
      "cell_type": "code",
      "metadata": {
        "id": "bi2RO99jridF",
        "colab_type": "code",
        "outputId": "9abccf32-2419-4606-f59e-b51ba30aa719",
        "colab": {
          "base_uri": "https://localhost:8080/",
          "height": 85
        }
      },
      "source": [
        "npArray = np.array([[77, 88, 34], [20, 21, 35], [12, 16, 90]])\n",
        "print(f\"Contents of the npAray : \\n{npArray}\")"
      ],
      "execution_count": 0,
      "outputs": [
        {
          "output_type": "stream",
          "text": [
            "Contents of the npAray : \n",
            "[[77 88 34]\n",
            " [20 21 35]\n",
            " [12 16 90]]\n"
          ],
          "name": "stdout"
        }
      ]
    },
    {
      "cell_type": "markdown",
      "metadata": {
        "id": "n8zJc-Y4sp--",
        "colab_type": "text"
      },
      "source": [
        "**Create 1D Numpy Array from list of list : list comprehension**"
      ]
    },
    {
      "cell_type": "code",
      "metadata": {
        "id": "WOoCd0T2sD2d",
        "colab_type": "code",
        "outputId": "11a38540-0c3b-481b-bb9f-4f8622826daa",
        "colab": {
          "base_uri": "https://localhost:8080/",
          "height": 51
        }
      },
      "source": [
        "listOfLists = [[77, 88, 99], [31, 42, 63], [11, 22, 33]]\n",
        "npArray = np.array([num for elem in listOfLists for num in elem])\n",
        "print(f\"Contents of the npAray : \\n{npArray}\")"
      ],
      "execution_count": 0,
      "outputs": [
        {
          "output_type": "stream",
          "text": [
            "Contents of the npAray : \n",
            "[77 88 99 31 42 63 11 22 33]\n"
          ],
          "name": "stdout"
        }
      ]
    },
    {
      "cell_type": "markdown",
      "metadata": {
        "id": "w74FPgcbtmoZ",
        "colab_type": "text"
      },
      "source": [
        "**Create a Numpy Array from a list with different data type**"
      ]
    },
    {
      "cell_type": "code",
      "metadata": {
        "id": "sRgwJuhqtGJN",
        "colab_type": "code",
        "outputId": "506b4a7c-3d08-4f7e-85bb-65186bb58acf",
        "colab": {
          "base_uri": "https://localhost:8080/",
          "height": 153
        }
      },
      "source": [
        "npArray = np.array([1, 2, 3, 4, 5, 6, 7, 8, 9] , dtype=float)\n",
        "print(f\"Contents of the npAray : \\n{npArray}\\n\\n Type of the ndArray : \\n{type(npArray)}\\n\\n Data Type of elements in  ndArray : \\n{npArray.dtype}\")"
      ],
      "execution_count": 0,
      "outputs": [
        {
          "output_type": "stream",
          "text": [
            "Contents of the npAray : \n",
            "[1. 2. 3. 4. 5. 6. 7. 8. 9.]\n",
            "\n",
            " Type of the ndArray : \n",
            "<class 'numpy.ndarray'>\n",
            "\n",
            " Data Type of elements in  ndArray : \n",
            "float64\n"
          ],
          "name": "stdout"
        }
      ]
    },
    {
      "cell_type": "markdown",
      "metadata": {
        "id": "WkB9HbITuVIb",
        "colab_type": "text"
      },
      "source": [
        "**Complete example is as follows,**"
      ]
    },
    {
      "cell_type": "code",
      "metadata": {
        "id": "CzpmFTGztuP2",
        "colab_type": "code",
        "outputId": "a0af4e5f-cefc-4eb8-9467-6df3f545d432",
        "colab": {
          "base_uri": "https://localhost:8080/",
          "height": 442
        }
      },
      "source": [
        "def main():\n",
        "  print('*** Create a ndArray from a list or tuple ***')\n",
        "  # Create ndArray from a list\n",
        "  npArray = np.array([1,2,3,4,5,6,7,8,9])\n",
        "  print(f'\\nContents of the ndArray : {npArray}')\n",
        "  # Create ndArray from a tuple\n",
        "  npArray = np.array( (11,22,33,44,55,66,77,88 ) )\n",
        "  print(f'\\nContents of the ndArray : {npArray}')\n",
        "  print(f'\\nType Created  ndArray : {type(npArray)}')\n",
        "  print(f'\\nData Type of elements in  ndArray : {npArray.dtype}')\n",
        "  print(f'\\n*** Create a 2D ndArray from a list of lists ***\\n')\n",
        "  # Create 2D ndarray form list of list\n",
        "  npArray = np.array( [ [77, 88, 99] , [31,42,63] , [11,22,33]])\n",
        "  print(f'Contents of the ndArray : \\n{npArray}')\n",
        "  print('\\n*** Create one dimension ndArray from a list of lists ***')\n",
        "  listOfLists = [[77, 88, 99], [31, 42, 63], [11, 22, 33]]\n",
        "  # Create one dimension ndArray from a list of lists\n",
        "  npArray = np.array([ elem for singleList in listOfLists for elem in singleList])\n",
        "  print(f'\\nContents of the ndArray : {npArray}')\n",
        "  print('\\n*** Create a ndArray from a list with different data type ***\\n')\n",
        "  # Create ndArray of float datatype from a list of int\n",
        "  npArray = np.array([1, 2, 3, 4, 5, 6, 7, 8, 9] , dtype=float)\n",
        "  print('Contents of the ndArray : ', npArray)\n",
        "  print('Type of the ndArray : ', npArray.dtype)\n",
        "if __name__ == '__main__':\n",
        "  main()"
      ],
      "execution_count": 0,
      "outputs": [
        {
          "output_type": "stream",
          "text": [
            "*** Create a ndArray from a list or tuple ***\n",
            "\n",
            "Contents of the ndArray : [1 2 3 4 5 6 7 8 9]\n",
            "\n",
            "Contents of the ndArray : [11 22 33 44 55 66 77 88]\n",
            "\n",
            "Type Created  ndArray : <class 'numpy.ndarray'>\n",
            "\n",
            "Data Type of elements in  ndArray : int64\n",
            "\n",
            "*** Create a 2D ndArray from a list of lists ***\n",
            "\n",
            "Contents of the ndArray : \n",
            "[[77 88 99]\n",
            " [31 42 63]\n",
            " [11 22 33]]\n",
            "\n",
            "*** Create one dimension ndArray from a list of lists ***\n",
            "\n",
            "Contents of the ndArray : [77 88 99 31 42 63 11 22 33]\n",
            "\n",
            "*** Create a ndArray from a list with different data type ***\n",
            "\n",
            "Contents of the ndArray :  [1. 2. 3. 4. 5. 6. 7. 8. 9.]\n",
            "Type of the ndArray :  float64\n"
          ],
          "name": "stdout"
        }
      ]
    },
    {
      "cell_type": "markdown",
      "metadata": {
        "id": "1Cq9a7gNxrE3",
        "colab_type": "text"
      },
      "source": [
        "### **2. Find the index of value in Numpy Array using numpy.where()**"
      ]
    },
    {
      "cell_type": "code",
      "metadata": {
        "id": "tSzKmu4OuuWp",
        "colab_type": "code",
        "colab": {}
      },
      "source": [
        "# Create a numpy array from a list of numbers\n",
        "arr = np.array([11, 12, 13, 14, 15, 16, 17, 15, 11, 12, 14, 15, 16, 17])"
      ],
      "execution_count": 0,
      "outputs": []
    },
    {
      "cell_type": "code",
      "metadata": {
        "id": "-nzXoF8D8rnY",
        "colab_type": "code",
        "outputId": "b9eb24a8-b78e-4e82-ee41-e7c31909d3cf",
        "colab": {
          "base_uri": "https://localhost:8080/",
          "height": 68
        }
      },
      "source": [
        "# Get the index of elements with value 15\n",
        "result = np.where(arr == 15)\n",
        "print('Tuple of arrays returned : ', result)\n",
        "print(\"Elements with value 15 exists at following indices\", result[0], sep='\\n')"
      ],
      "execution_count": 0,
      "outputs": [
        {
          "output_type": "stream",
          "text": [
            "Tuple of arrays returned :  (array([ 4,  7, 11]),)\n",
            "Elements with value 15 exists at following indices\n",
            "[ 4  7 11]\n"
          ],
          "name": "stdout"
        }
      ]
    },
    {
      "cell_type": "code",
      "metadata": {
        "id": "iVNCpsLf83Om",
        "colab_type": "code",
        "outputId": "c7879a63-622c-4de3-c0e0-66c2af7122c0",
        "colab": {
          "base_uri": "https://localhost:8080/",
          "height": 34
        }
      },
      "source": [
        "\t\n",
        "result[0][0]"
      ],
      "execution_count": 0,
      "outputs": [
        {
          "output_type": "execute_result",
          "data": {
            "text/plain": [
              "4"
            ]
          },
          "metadata": {
            "tags": []
          },
          "execution_count": 59
        }
      ]
    },
    {
      "cell_type": "code",
      "metadata": {
        "id": "G5U-dY88Hcbj",
        "colab_type": "code",
        "outputId": "cf382833-d429-429c-a9be-1d47fbd5683d",
        "colab": {
          "base_uri": "https://localhost:8080/",
          "height": 51
        }
      },
      "source": [
        "boolArr = (arr == 15)\n",
        "boolArr"
      ],
      "execution_count": 0,
      "outputs": [
        {
          "output_type": "execute_result",
          "data": {
            "text/plain": [
              "array([False, False, False, False,  True, False, False,  True, False,\n",
              "       False, False,  True, False, False])"
            ]
          },
          "metadata": {
            "tags": []
          },
          "execution_count": 63
        }
      ]
    },
    {
      "cell_type": "code",
      "metadata": {
        "id": "xsEdU9XaHl8P",
        "colab_type": "code",
        "colab": {}
      },
      "source": [
        "result = np.where(boolArr)"
      ],
      "execution_count": 0,
      "outputs": []
    },
    {
      "cell_type": "markdown",
      "metadata": {
        "id": "RqDBXQrnIhyD",
        "colab_type": "text"
      },
      "source": [
        "**Find index of a value in 2D Numpy array | Matrix**"
      ]
    },
    {
      "cell_type": "code",
      "metadata": {
        "id": "IXPk7L96H-oh",
        "colab_type": "code",
        "outputId": "5bbb0bb7-e715-4831-8986-10ee27212fdc",
        "colab": {
          "base_uri": "https://localhost:8080/",
          "height": 34
        }
      },
      "source": [
        "# Create a 2D Numpy array from list of lists\n",
        "arr = np.array([[11, 12, 13], [14, 15, 16], [17, 15, 11], [12, 14, 15]])\n",
        "result = np.where(arr == 15)\n",
        "print('Tuple of arrays returned : ', result)"
      ],
      "execution_count": 0,
      "outputs": [
        {
          "output_type": "stream",
          "text": [
            "Tuple of arrays returned :  (array([1, 2, 3]), array([1, 1, 2]))\n"
          ],
          "name": "stdout"
        }
      ]
    },
    {
      "cell_type": "markdown",
      "metadata": {
        "id": "IBk5YainJdMy",
        "colab_type": "text"
      },
      "source": [
        "- Now returned array 1 represents the row indices where this value is found i.e. [1, 2, 3]\n",
        "- Whereas, array 2 represents the column indices where this value is found i.e. [1, 1, 2]"
      ]
    },
    {
      "cell_type": "code",
      "metadata": {
        "id": "BFARmQs5Ij9C",
        "colab_type": "code",
        "outputId": "29ac11b6-7db0-40c6-a813-ea95a1fdd06c",
        "colab": {
          "base_uri": "https://localhost:8080/",
          "height": 68
        }
      },
      "source": [
        "# zip the 2 arrays to get the exact coordinates\n",
        "listOfCoordinates= list(zip(result[0], result[1]))\n",
        "for cord in listOfCoordinates:\n",
        "    print(cord)"
      ],
      "execution_count": 0,
      "outputs": [
        {
          "output_type": "stream",
          "text": [
            "(1, 1)\n",
            "(2, 1)\n",
            "(3, 2)\n"
          ],
          "name": "stdout"
        }
      ]
    },
    {
      "cell_type": "markdown",
      "metadata": {
        "id": "5y6uGtbQKc3O",
        "colab_type": "text"
      },
      "source": [
        "**Get indices of elements based on multiple conditions**"
      ]
    },
    {
      "cell_type": "code",
      "metadata": {
        "id": "KnswkJcTJ8r3",
        "colab_type": "code",
        "outputId": "b58387f7-37a3-4773-bf36-8b711c6b7125",
        "colab": {
          "base_uri": "https://localhost:8080/",
          "height": 51
        }
      },
      "source": [
        "# Create a numpy array from a list of numbers\n",
        "arr = np.array([11, 12, 13, 14, 15, 16, 17, 15, 11, 12, 14, 15, 16, 17])\n",
        " \n",
        "# Get the index of elements with value less than 16 and greater than 12\n",
        "result = np.where((arr > 12) & (arr < 16))\n",
        "print(\"Elements with value less than 16 and greater than 12 exists at following indices:\", result, sep='\\n')"
      ],
      "execution_count": 0,
      "outputs": [
        {
          "output_type": "stream",
          "text": [
            "Elements with value less than 16 and greater than 12 exists at following indices:\n",
            "(array([ 2,  3,  4,  7, 10, 11]),)\n"
          ],
          "name": "stdout"
        }
      ]
    },
    {
      "cell_type": "code",
      "metadata": {
        "id": "etdR9_J5Kn9s",
        "colab_type": "code",
        "outputId": "99898804-e986-4ddb-ece1-bba7a6cb7cd2",
        "colab": {
          "base_uri": "https://localhost:8080/",
          "height": 34
        }
      },
      "source": [
        "result = np.where(arr == 15)\n",
        "if len(result) > 0 and len(result[0]) > 0:\n",
        "  print('First Index of element with value 15 is ', result[0][0])"
      ],
      "execution_count": 0,
      "outputs": [
        {
          "output_type": "stream",
          "text": [
            "First Index of element with value 15 is  4\n"
          ],
          "name": "stdout"
        }
      ]
    },
    {
      "cell_type": "markdown",
      "metadata": {
        "id": "cnuF8hCLMW1n",
        "colab_type": "text"
      },
      "source": [
        "**Complete example is as follows,**"
      ]
    },
    {
      "cell_type": "code",
      "metadata": {
        "id": "rIhpJAIwL4OV",
        "colab_type": "code",
        "outputId": "1e5f2de7-2a6c-4961-f5a5-eb525c65ef43",
        "colab": {
          "base_uri": "https://localhost:8080/",
          "height": 527
        }
      },
      "source": [
        "def main():\n",
        "    print(\"*** Find the index of an element in 1D Numpy Array ***\\n\")\n",
        " \n",
        "    # Create a numpy array from a list of numbers\n",
        "    arr = np.array([11, 12, 13, 14, 15, 16, 17, 15, 11, 12, 14, 15, 16, 17])\n",
        " \n",
        "    # Get the index of elements with value 15\n",
        "    result = np.where(arr == 15)\n",
        " \n",
        "    print('Tuple of arrays returned : ', result)\n",
        "    print(\"Elements with value 15 exists at following indices\", result[0], sep='\\n')\n",
        "    print('First Index of element with value 15 is : ', result[0][0])\n",
        " \n",
        "    # If given element doesn't exist in the array then it will return an empty array\n",
        "    result = np.where(arr == 111)\n",
        "    print('Empty Array returned : ', result)\n",
        "    print(\"value 111 exists at following indices\", result[0], sep='\\n')\n",
        " \n",
        "    print(\"\\n*** Find the index of an element in 2D Numpy Array ***\\n\")\n",
        " \n",
        "    # Create a 2D Numpy array from list of lists\n",
        "    arr = np.array([[11, 12, 13],\n",
        "                    [14, 15, 16],\n",
        "                    [17, 15, 11],\n",
        "                    [12, 14, 15]])\n",
        " \n",
        "    print('Contents of 2D Numpy Array', arr, sep='\\n')\n",
        " \n",
        "    # Get the index of elements with value 17\n",
        "    result = np.where(arr == 15)\n",
        " \n",
        "    print('Tuple of arrays returned : ', result)\n",
        " \n",
        "    print('List of coordinates where element with value 15 exists in given 2D array : ')\n",
        "    # zip the 2 arrays to get the exact coordinates\n",
        "    listOfCoordinates = list(zip(result[0], result[1]))\n",
        "    # iterate over the list of coordinates\n",
        "    for cord in listOfCoordinates:\n",
        "        print(cord)\n",
        " \n",
        "    print(\"\\n*** Get the index of an element based on multiple conditions Numpy Array ***\\n\")\n",
        " \n",
        "    # Create a numpy array from a list of numbers\n",
        "    arr = np.array([11, 12, 13, 14, 15, 16, 17, 15, 11, 12, 14, 15, 16, 17])\n",
        " \n",
        "    # Get the index of elements with value less than 16 and greater than 12\n",
        "    result = np.where((arr > 12) & (arr < 16))\n",
        "    print(\"Elements with value less than 16 and greater than 12 exists at following indices\", result, sep='\\n')\n",
        " \n",
        "    print(\"\\n*** Get the first index of an element in Numpy Array ***\")\n",
        " \n",
        "    result = np.where(arr == 15)\n",
        "    if len(result) > 0 and len(result[0]) > 0:\n",
        "        print('First Index of element with value 15 is ', result[0][0])\n",
        " \n",
        " \n",
        "if __name__ == '__main__':\n",
        "    main()"
      ],
      "execution_count": 0,
      "outputs": [
        {
          "output_type": "stream",
          "text": [
            "*** Find the index of an element in 1D Numpy Array ***\n",
            "\n",
            "Tuple of arrays returned :  (array([ 4,  7, 11]),)\n",
            "Elements with value 15 exists at following indices\n",
            "[ 4  7 11]\n",
            "First Index of element with value 15 is :  4\n",
            "Empty Array returned :  (array([], dtype=int64),)\n",
            "value 111 exists at following indices\n",
            "[]\n",
            "\n",
            "*** Find the index of an element in 2D Numpy Array ***\n",
            "\n",
            "Contents of 2D Numpy Array\n",
            "[[11 12 13]\n",
            " [14 15 16]\n",
            " [17 15 11]\n",
            " [12 14 15]]\n",
            "Tuple of arrays returned :  (array([1, 2, 3]), array([1, 1, 2]))\n",
            "List of coordinates where element with value 15 exists in given 2D array : \n",
            "(1, 1)\n",
            "(2, 1)\n",
            "(3, 2)\n",
            "\n",
            "*** Get the index of an element based on multiple conditions Numpy Array ***\n",
            "\n",
            "Elements with value less than 16 and greater than 12 exists at following indices\n",
            "(array([ 2,  3,  4,  7, 10, 11]),)\n",
            "\n",
            "*** Get the first index of an element in Numpy Array ***\n",
            "First Index of element with value 15 is  4\n"
          ],
          "name": "stdout"
        }
      ]
    },
    {
      "cell_type": "markdown",
      "metadata": {
        "id": "kZHpzo-SNkqS",
        "colab_type": "text"
      },
      "source": [
        "### **3. Select an element or sub array by index from a Numpy Array**"
      ]
    },
    {
      "cell_type": "code",
      "metadata": {
        "id": "L56JBQn-MhTm",
        "colab_type": "code",
        "outputId": "a61f9a3f-0fea-4fa9-f806-c88f1f2f049c",
        "colab": {
          "base_uri": "https://localhost:8080/",
          "height": 51
        }
      },
      "source": [
        "# Create a numpy ndArray\n",
        "npArray = np.arange(1, 20, 2)\n",
        "print(npArray)\n",
        "# Select an element at index 2 (Index starts from 0)\n",
        "elem = npArray[2]\n",
        "print('Element at 2nd index  : ' , elem)\n"
      ],
      "execution_count": 0,
      "outputs": [
        {
          "output_type": "stream",
          "text": [
            "[ 1  3  5  7  9 11 13 15 17 19]\n",
            "Element at 2nd index  :  5\n"
          ],
          "name": "stdout"
        }
      ]
    },
    {
      "cell_type": "markdown",
      "metadata": {
        "id": "nAGaliBxPPc5",
        "colab_type": "text"
      },
      "source": [
        "**Select a sub array from Numpy Array by index range**"
      ]
    },
    {
      "cell_type": "code",
      "metadata": {
        "id": "U-Joo0AfO_oy",
        "colab_type": "code",
        "outputId": "8bb6e639-4b4e-4570-d28c-8bf4602db171",
        "colab": {
          "base_uri": "https://localhost:8080/",
          "height": 34
        }
      },
      "source": [
        "# Select elements from index 1 to 6\n",
        "subArray = npArray[1:7]\n",
        "subArray"
      ],
      "execution_count": 0,
      "outputs": [
        {
          "output_type": "execute_result",
          "data": {
            "text/plain": [
              "array([ 3,  5,  7,  9, 11, 13])"
            ]
          },
          "metadata": {
            "tags": []
          },
          "execution_count": 94
        }
      ]
    },
    {
      "cell_type": "markdown",
      "metadata": {
        "id": "IA_zfY4qQJk4",
        "colab_type": "text"
      },
      "source": [
        "**Complete example is as follows,**"
      ]
    },
    {
      "cell_type": "code",
      "metadata": {
        "id": "ZPg-78uIPUUo",
        "colab_type": "code",
        "outputId": "de7d5a93-6f78-412d-c52c-ffce61e9dab6",
        "colab": {
          "base_uri": "https://localhost:8080/",
          "height": 442
        }
      },
      "source": [
        "def main():\n",
        " \n",
        "   # Create a numpy ndArray\n",
        "   npArray = np.arange(1, 20, 2)\n",
        " \n",
        "   print('Contents of numpy ndArray', npArray)\n",
        " \n",
        "   print('\\n*** Select an element by Index ***\\n')\n",
        "   # Select an element at index 2 (Index starts from 0)\n",
        "   elem = npArray[2]\n",
        "   print('Element at 2nd index  : ' , elem)\n",
        " \n",
        "   print('\\n*** Select a by sub array by Index Range ***\\n')\n",
        "   # Select elements from index 1 to 6\n",
        "   subArray = npArray[1:7]\n",
        "   print('Sub Array from 1st to 6th index are :', subArray)\n",
        "   # Select elements from beginning to index 3\n",
        "   subArray = npArray[:4]\n",
        "   print('Sub Array from beginning to 3rd index are :', subArray)\n",
        " \n",
        "   # Select elements from 2nd index to end\n",
        "   subArray = npArray[2:]\n",
        "   print('Sub Array from 2nd index to end are :', subArray)\n",
        " \n",
        " \n",
        "   print('\\n*** Sub Array is just a View not the copy ***\\n')\n",
        "   npArray = np.arange(1, 20, 2)\n",
        "   print('Contents of Original Array : ', subArray)\n",
        " \n",
        "   # Select a sub array of elements from index 1 to 6\n",
        "   subArray = npArray[1:7]\n",
        "   print('Contents of Sub Array : ', subArray)\n",
        "   # Change contents of sub array\n",
        "   subArray[1] = 220\n",
        "   '''\n",
        "   Sub array is just a view of original array i.e. data is not copied just a view of sub array is created.\n",
        "   Any modification in it will be reflected in original nodArray too\n",
        "   '''\n",
        "   print('Contents of modified Sub Array : ', subArray)\n",
        "   print('Contents of Original Array : ', npArray)\n",
        " \n",
        " \n",
        "   print('\\n*** Create a copy of Sub Array of ndArray ***\\n')\n",
        "   npArray = np.arange(1, 20, 2)\n",
        "   print('Contents of Original Array : ', subArray)\n",
        "   # Fetch a copy of sub array from index 1 to 6\n",
        "   subArray = npArray[1:7].copy()\n",
        "   print('Contents of Sub Array : ', subArray)\n",
        " \n",
        "   # Change contents of sub array\n",
        "   subArray[1] = 220\n",
        " \n",
        "   '''\n",
        "   As subArray is a copy of sub array not the view only, so changes made in it will not be reflected in main array.\n",
        "   '''\n",
        "   print('Contents of modified Sub Array : ', subArray)\n",
        "   print('Contents of Original Array : ', npArray)\n",
        " \n",
        " \n",
        "if __name__ == '__main__':\n",
        "   main()"
      ],
      "execution_count": 0,
      "outputs": [
        {
          "output_type": "stream",
          "text": [
            "Contents of numpy ndArray [ 1  3  5  7  9 11 13 15 17 19]\n",
            "\n",
            "*** Select an element by Index ***\n",
            "\n",
            "Element at 2nd index  :  5\n",
            "\n",
            "*** Select a by sub array by Index Range ***\n",
            "\n",
            "Sub Array from 1st to 6th index are : [ 3  5  7  9 11 13]\n",
            "Sub Array from beginning to 3rd index are : [1 3 5 7]\n",
            "Sub Array from 2nd index to end are : [ 5  7  9 11 13 15 17 19]\n",
            "\n",
            "*** Sub Array is just a View not the copy ***\n",
            "\n",
            "Contents of Original Array :  [ 5  7  9 11 13 15 17 19]\n",
            "Contents of Sub Array :  [ 3  5  7  9 11 13]\n",
            "Contents of modified Sub Array :  [  3 220   7   9  11  13]\n",
            "Contents of Original Array :  [  1   3 220   7   9  11  13  15  17  19]\n",
            "\n",
            "*** Create a copy of Sub Array of ndArray ***\n",
            "\n",
            "Contents of Original Array :  [  3 220   7   9  11  13]\n",
            "Contents of Sub Array :  [ 3  5  7  9 11 13]\n",
            "Contents of modified Sub Array :  [  3 220   7   9  11  13]\n",
            "Contents of Original Array :  [ 1  3  5  7  9 11 13 15 17 19]\n"
          ],
          "name": "stdout"
        }
      ]
    },
    {
      "cell_type": "markdown",
      "metadata": {
        "id": "yI0aWcKCRJBc",
        "colab_type": "text"
      },
      "source": [
        "### **4. Select rows / columns by index from a 2D Numpy Array | Multi Dimension**</font>"
      ]
    },
    {
      "cell_type": "code",
      "metadata": {
        "id": "qAvS2rmZQwcf",
        "colab_type": "code",
        "outputId": "26bef2ce-e6ff-4578-9c80-1f324045ebd8",
        "colab": {
          "base_uri": "https://localhost:8080/",
          "height": 68
        }
      },
      "source": [
        "# Create a 2D Numpy adArray with 3 rows & 3 columns | Matrix\n",
        "nArr2D = np.array(([21, 22, 23], [11, 22, 33], [43, 77, 89]))\n",
        "nArr2D"
      ],
      "execution_count": 0,
      "outputs": [
        {
          "output_type": "execute_result",
          "data": {
            "text/plain": [
              "array([[21, 22, 23],\n",
              "       [11, 22, 33],\n",
              "       [43, 77, 89]])"
            ]
          },
          "metadata": {
            "tags": []
          },
          "execution_count": 99
        }
      ]
    },
    {
      "cell_type": "markdown",
      "metadata": {
        "id": "dAj7KI73RqH0",
        "colab_type": "text"
      },
      "source": [
        "**Select a single element from 2D Numpy Array by index**"
      ]
    },
    {
      "cell_type": "code",
      "metadata": {
        "id": "hEj4ebclRjkQ",
        "colab_type": "code",
        "outputId": "f647ef4b-e524-49af-e8f2-272bd12d558d",
        "colab": {
          "base_uri": "https://localhost:8080/",
          "height": 34
        }
      },
      "source": [
        "# Select element at row index 1 & column index 2\n",
        "num = nArr2D[1][2]\n",
        "print('element at row index 1 & column index 2 is : ' , num)"
      ],
      "execution_count": 0,
      "outputs": [
        {
          "output_type": "stream",
          "text": [
            "element at row index 1 & column index 2 is :  33\n"
          ],
          "name": "stdout"
        }
      ]
    },
    {
      "cell_type": "markdown",
      "metadata": {
        "id": "Bu81qB3ASEIZ",
        "colab_type": "text"
      },
      "source": [
        "**Select Rows by Index from a 2D Numpy Array**"
      ]
    },
    {
      "cell_type": "code",
      "metadata": {
        "id": "8JykYR9nR7_k",
        "colab_type": "code",
        "outputId": "3b9e9780-0109-4171-8481-66101ba39696",
        "colab": {
          "base_uri": "https://localhost:8080/",
          "height": 34
        }
      },
      "source": [
        "# Select a Row at index 1\n",
        "row = nArr2D[1]\n",
        "print('Contents of Row at Index 1 : ' , row)"
      ],
      "execution_count": 0,
      "outputs": [
        {
          "output_type": "stream",
          "text": [
            "Contents of Row at Index 1 :  [11 22 33]\n"
          ],
          "name": "stdout"
        }
      ]
    },
    {
      "cell_type": "code",
      "metadata": {
        "id": "5MKbS7kRSVvM",
        "colab_type": "code",
        "outputId": "995991a1-2b86-4729-fa37-76a379b107b0",
        "colab": {
          "base_uri": "https://localhost:8080/",
          "height": 68
        }
      },
      "source": [
        "# Select multiple rows from index 1 to 2\n",
        "rows = nArr2D[1:3, :]\n",
        "print(f'Rows from Index 1 to 2 : \\n{rows}')"
      ],
      "execution_count": 0,
      "outputs": [
        {
          "output_type": "stream",
          "text": [
            "Rows from Index 1 to 2 : \n",
            "[[11 22 33]\n",
            " [43 77 89]]\n"
          ],
          "name": "stdout"
        }
      ]
    },
    {
      "cell_type": "markdown",
      "metadata": {
        "id": "9o1pmpoyTRzH",
        "colab_type": "text"
      },
      "source": [
        "**Select Columns by Index from a 2D Numpy Array**"
      ]
    },
    {
      "cell_type": "code",
      "metadata": {
        "id": "LEIYGrSSSlAB",
        "colab_type": "code",
        "outputId": "01e8c3e0-302f-413c-a2e8-847d310d8baf",
        "colab": {
          "base_uri": "https://localhost:8080/",
          "height": 85
        }
      },
      "source": [
        "columns = nArr2D[: , 1:3]\n",
        " \n",
        "print(f'Column from Index 1 to 2 : \\n{columns}')"
      ],
      "execution_count": 0,
      "outputs": [
        {
          "output_type": "stream",
          "text": [
            "Column from Index 1 to 2 : \n",
            "[[22 23]\n",
            " [22 33]\n",
            " [77 89]]\n"
          ],
          "name": "stdout"
        }
      ]
    },
    {
      "cell_type": "markdown",
      "metadata": {
        "id": "bSHmLn44TnUC",
        "colab_type": "text"
      },
      "source": [
        "**Select a Sub Matrix or 2d Numpy Array from another 2D Numpy Array**"
      ]
    },
    {
      "cell_type": "code",
      "metadata": {
        "id": "4qLOumpGTf5g",
        "colab_type": "code",
        "outputId": "6f4f5528-1fca-48be-fefa-d29634fcec8d",
        "colab": {
          "base_uri": "https://localhost:8080/",
          "height": 68
        }
      },
      "source": [
        "# Select a sub 2D array from row indices 1 to 2 & column indices 1 to 2\n",
        "sub2DArr = nArr2D[1:3, 1:3]\n",
        "print(f'Sub 2d Array : \\n{sub2DArr}')"
      ],
      "execution_count": 0,
      "outputs": [
        {
          "output_type": "stream",
          "text": [
            "Sub 2d Array : \n",
            "[[22 33]\n",
            " [77 89]]\n"
          ],
          "name": "stdout"
        }
      ]
    },
    {
      "cell_type": "markdown",
      "metadata": {
        "id": "qipNxw3XUKfc",
        "colab_type": "text"
      },
      "source": [
        "**Selected Row or Column or Sub Array is View only**"
      ]
    },
    {
      "cell_type": "code",
      "metadata": {
        "id": "sUprhbM_Tzh9",
        "colab_type": "code",
        "outputId": "6aa6533c-37b1-4eb4-d32c-57ce3ce38ba1",
        "colab": {
          "base_uri": "https://localhost:8080/",
          "height": 34
        }
      },
      "source": [
        "# Select row at index 1 from 2D array\n",
        "row = nArr2D[1]\n",
        "row[:] = 100\n",
        "row"
      ],
      "execution_count": 0,
      "outputs": [
        {
          "output_type": "execute_result",
          "data": {
            "text/plain": [
              "array([100, 100, 100])"
            ]
          },
          "metadata": {
            "tags": []
          },
          "execution_count": 114
        }
      ]
    },
    {
      "cell_type": "markdown",
      "metadata": {
        "id": "iuTvxqkqUq4B",
        "colab_type": "text"
      },
      "source": [
        "**Complete example is as follows,**"
      ]
    },
    {
      "cell_type": "code",
      "metadata": {
        "id": "a49oA9EJUWdb",
        "colab_type": "code",
        "outputId": "95b34496-5b94-4445-ca9f-47842a59f75e",
        "colab": {
          "base_uri": "https://localhost:8080/",
          "height": 969
        }
      },
      "source": [
        "def main():\n",
        "\n",
        "   # Create a 2D Numpy adArray with 3 rows & 3 columns | Matrix\n",
        "   nArr2D = np.array(([21, 22, 23], [11, 22, 33], [43, 77, 89]))\n",
        "   print('Contents of 2D Array : {nArr2D}')\n",
        " \n",
        "   print('\\n*** Select an element by index from a 2D ndArray\\n***')\n",
        "   # Select element at row index 1 & column index 2\n",
        "   num = nArr2D[1][2]\n",
        "   print('element at row index 1 & column index 2 is : ' , num)\n",
        "   # Another way to select element at row index 1 & column index 2\n",
        "   num = nArr2D[1, 2]\n",
        "   print('element at row index 1 & column index 2 is : ', num)\n",
        " \n",
        "   print('\\n*** Select Rows by Index from a 2D ndArray ***\\n')\n",
        "   # Select a Row at index 1\n",
        "   row = nArr2D[1]\n",
        "   print('Contents of Row at Index 1 : ' , row)\n",
        "   # Select multiple rows from index 1 to 2\n",
        "   rows = nArr2D[1:3, :]\n",
        "   print('Rows from Index 1 to 2 :', rows)\n",
        "   # Select multiple rows from index 1 to last index\n",
        "   rows = nArr2D[1: , :]\n",
        "   print('Rows from Index 1 to last row :')\n",
        "   print(rows)\n",
        " \n",
        "   print('\\n*** Select Columns by Index from a 2D ndArray ***\\n')\n",
        "   # Select a column at index 1\n",
        "   column = nArr2D[:, 1]\n",
        "   print('Contents of Column at Index 1 : ', column)\n",
        "   # Select multiple columns from index 1 to 2\n",
        "   columns = nArr2D[: , 1:3]\n",
        "   print('Column from Index 1 to 2 :')\n",
        "   print(columns)\n",
        "   # Select multiple columns from index 1 to last index\n",
        "   columns = nArr2D[:, 1:]\n",
        "   print('Column from Index 1 to last index :')\n",
        "   print(columns)\n",
        " \n",
        "   print('\\n*** Select a Sub Matrix or 2d Array from another 2D ndArray ***\\n')\n",
        "   print('Original ndArray', nArr2D)\n",
        "   # Select a sub 2D array from row indices 1 to 2 & column indices 1 to 2\n",
        "   sub2DArr = nArr2D[1:3, 1:3] \n",
        "   print('Sub 2d Array :', sub2DArr)\n",
        "\n",
        "   print('\\n*** Sub Array is View only ***\\n')\n",
        "   print('Original ndArray', nArr2D)\n",
        "   # Select row at index 1 from 2D array\n",
        "   row = nArr2D[1]\n",
        "   print('Contents of row / sub array', row)\n",
        "   # Change all the elements in selected sub array to 100\n",
        "   row[:] = 100\n",
        " \n",
        "   # As sub array is a copy so, changes in it will be reflected in original array too\n",
        " \n",
        "   print('Contents of modified row / sub array')\n",
        "   print(row)\n",
        "   print('Original ndArray')\n",
        "   print(nArr2D)\n",
        " \n",
        "   print('\\n*** Fetching a copy of 2D Sub Array from 2D ndArray ***\\n')\n",
        "   # Create a 2D Numpy adArray with3 rows & columns | Matrix\n",
        "   nArr2D = np.array(([21, 22, 23], [11, 22, 33], [43, 77, 89]))\n",
        "   # Select a copy of row at index 1 from 2D array\n",
        "   row = nArr2D[1].copy()\n",
        "   # Set all the elements in selected sub array to 100\n",
        "   row[:] = 100\n",
        "   '''\n",
        "   Here sub array is a copy of original array so, modifying it will not affect the original ndArray\n",
        "   '''\n",
        " \n",
        "   print('Contents of modified row / sub array', row)\n",
        "   print('Original ndArray', nArr2D)\n",
        " \n",
        "if __name__ == '__main__':\n",
        "   main()"
      ],
      "execution_count": 0,
      "outputs": [
        {
          "output_type": "stream",
          "text": [
            "Contents of 2D Array : {nArr2D}\n",
            "\n",
            "*** Select an element by index from a 2D ndArray\n",
            "***\n",
            "element at row index 1 & column index 2 is :  33\n",
            "element at row index 1 & column index 2 is :  33\n",
            "\n",
            "*** Select Rows by Index from a 2D ndArray ***\n",
            "\n",
            "Contents of Row at Index 1 :  [11 22 33]\n",
            "Rows from Index 1 to 2 : [[11 22 33]\n",
            " [43 77 89]]\n",
            "Rows from Index 1 to last row :\n",
            "[[11 22 33]\n",
            " [43 77 89]]\n",
            "\n",
            "*** Select Columns by Index from a 2D ndArray ***\n",
            "\n",
            "Contents of Column at Index 1 :  [22 22 77]\n",
            "Column from Index 1 to 2 :\n",
            "[[22 23]\n",
            " [22 33]\n",
            " [77 89]]\n",
            "Column from Index 1 to last index :\n",
            "[[22 23]\n",
            " [22 33]\n",
            " [77 89]]\n",
            "\n",
            "*** Select a Sub Matrix or 2d Array from another 2D ndArray ***\n",
            "\n",
            "Original ndArray [[21 22 23]\n",
            " [11 22 33]\n",
            " [43 77 89]]\n",
            "Sub 2d Array : [[22 33]\n",
            " [77 89]]\n",
            "\n",
            "*** Sub Array is View only ***\n",
            "\n",
            "Original ndArray [[21 22 23]\n",
            " [11 22 33]\n",
            " [43 77 89]]\n",
            "Contents of row / sub array [11 22 33]\n",
            "Contents of modified row / sub array\n",
            "[100 100 100]ERROR! Session/line number was not unique in database. History logging moved to new session \n",
            "65\n",
            "Original ndArray\n",
            "[[ 21  22  23]\n",
            " [100 100 100]\n",
            " [ 43  77  89]]\n",
            "\n",
            "*** Fetching a copy of 2D Sub Array from 2D ndArray ***\n",
            "\n",
            "Contents of modified row / sub array [100 100 100]\n",
            "Original ndArray [[21 22 23]\n",
            " [11 22 33]\n",
            " [43 77 89]]\n"
          ],
          "name": "stdout"
        }
      ]
    },
    {
      "cell_type": "markdown",
      "metadata": {
        "id": "2uanlEF0awyO",
        "colab_type": "text"
      },
      "source": [
        "### **5. Select elements or indices by conditions from Numpy Array**</font>"
      ]
    },
    {
      "cell_type": "code",
      "metadata": {
        "id": "KLEmGOdBenoT",
        "colab_type": "code",
        "colab": {}
      },
      "source": [
        ""
      ],
      "execution_count": 0,
      "outputs": []
    },
    {
      "cell_type": "code",
      "metadata": {
        "id": "SZbd4no6eoFV",
        "colab_type": "code",
        "colab": {}
      },
      "source": [
        ""
      ],
      "execution_count": 0,
      "outputs": []
    },
    {
      "cell_type": "code",
      "metadata": {
        "id": "qPDc5NYuen8Y",
        "colab_type": "code",
        "colab": {}
      },
      "source": [
        ""
      ],
      "execution_count": 0,
      "outputs": []
    }
  ]
}