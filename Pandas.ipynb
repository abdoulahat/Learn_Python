{
  "nbformat": 4,
  "nbformat_minor": 0,
  "metadata": {
    "colab": {
      "name": "Copie de Apprendre_Python.ipynb",
      "provenance": [],
      "collapsed_sections": [],
      "authorship_tag": "ABX9TyOrXgHtExI/2qUMCeUCIX8w",
      "include_colab_link": true
    },
    "kernelspec": {
      "name": "python3",
      "display_name": "Python 3"
    }
  },
  "cells": [
    {
      "cell_type": "markdown",
      "metadata": {
        "id": "view-in-github",
        "colab_type": "text"
      },
      "source": [
        "<a href=\"https://colab.research.google.com/github/abdoulahat/Learn_Python/blob/master/Pandas.ipynb\" target=\"_parent\"><img src=\"https://colab.research.google.com/assets/colab-badge.svg\" alt=\"Open In Colab\"/></a>"
      ]
    },
    {
      "cell_type": "markdown",
      "metadata": {
        "id": "GGceTP8LhG-I",
        "colab_type": "text"
      },
      "source": [
        "Ce document est en cours. Je vais donner les détails de chacun des points. Merci de votre compréhension. "
      ]
    },
    {
      "cell_type": "markdown",
      "metadata": {
        "id": "X8luaNRPeo22",
        "colab_type": "text"
      },
      "source": [
        "##**Pandas Dataframes**"
      ]
    },
    {
      "cell_type": "markdown",
      "metadata": {
        "id": "t3iD5syyRtyf",
        "colab_type": "text"
      },
      "source": [
        "###### **Script pour concacténer plusieurs dataframe**"
      ]
    },
    {
      "cell_type": "code",
      "metadata": {
        "id": "iZJbP0_2Rsrx",
        "colab_type": "code",
        "colab": {}
      },
      "source": [
        "import os\n",
        "import pandas as pd\n",
        "os.chdir(path)\n",
        "\n",
        "dfs = [pd.read_csv(f, sep=',') for f in os.listdir(os.getcwd())]\n",
        "\n",
        "finaldf = pd.concat(dfs, axis=0, join='inner').sort_index()\n"
      ],
      "execution_count": 0,
      "outputs": []
    }
  ]
}