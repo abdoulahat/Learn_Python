{
  "nbformat": 4,
  "nbformat_minor": 0,
  "metadata": {
    "colab": {
      "name": "Copie de Apprendre_Python.ipynb",
      "provenance": [],
      "collapsed_sections": [],
      "authorship_tag": "ABX9TyMckYgQjgs0U35XBXk2hVwC",
      "include_colab_link": true
    },
    "kernelspec": {
      "name": "python3",
      "display_name": "Python 3"
    }
  },
  "cells": [
    {
      "cell_type": "markdown",
      "metadata": {
        "id": "view-in-github",
        "colab_type": "text"
      },
      "source": [
        "<a href=\"https://colab.research.google.com/github/abdoulahat/Learn_Python/blob/master/Pandas.ipynb\" target=\"_parent\"><img src=\"https://colab.research.google.com/assets/colab-badge.svg\" alt=\"Open In Colab\"/></a>"
      ]
    },
    {
      "cell_type": "markdown",
      "metadata": {
        "id": "GGceTP8LhG-I",
        "colab_type": "text"
      },
      "source": [
        "Ce document est en cours. Je vais donner les détails de chacun des points. Merci de votre compréhension. "
      ]
    },
    {
      "cell_type": "markdown",
      "metadata": {
        "id": "X8luaNRPeo22",
        "colab_type": "text"
      },
      "source": [
        "##**Pandas Dataframes**"
      ]
    },
    {
      "cell_type": "markdown",
      "metadata": {
        "id": "t3iD5syyRtyf",
        "colab_type": "text"
      },
      "source": [
        "###### **Script pour concacténer plusieurs dataframe**"
      ]
    },
    {
      "cell_type": "code",
      "metadata": {
        "id": "iZJbP0_2Rsrx",
        "colab_type": "code",
        "colab": {}
      },
      "source": [
        "import os\n",
        "import pandas as pd\n",
        "os.chdir(path)\n",
        "\n",
        "dfs = [pd.read_csv(f, sep=',') for f in os.listdir(os.getcwd())]\n",
        "\n",
        "finaldf = pd.concat(dfs, axis=0, join='inner').sort_index()\n"
      ],
      "execution_count": 0,
      "outputs": []
    },
    {
      "cell_type": "markdown",
      "metadata": {
        "id": "NCAsto9dpcHg",
        "colab_type": "text"
      },
      "source": [
        "### **1. Create DataFrame from Dictionary using default Constructor**"
      ]
    },
    {
      "cell_type": "code",
      "metadata": {
        "id": "D2TvUFnwp0Vb",
        "colab_type": "code",
        "colab": {
          "base_uri": "https://localhost:8080/",
          "height": 850
        },
        "outputId": "496c2961-351b-4ba2-95e2-de6d361d170e"
      },
      "source": [
        "import pandas as pd\n",
        " \n",
        "def main():\n",
        "    \n",
        "    # Dictionary with list object in values\n",
        "    studentData = {\n",
        "        'name' : ['jack', 'Riti', 'Aadi'],\n",
        "        'age' : [34, 30, 16],\n",
        "        'city' : ['Sydney', 'Delhi', 'New york']\n",
        "    }\n",
        "    \n",
        "    print('Creating Dataframe from Dictionary\\n')\n",
        "    ''' \n",
        "    Pass dictionary in Dataframe constructor to create a new object\n",
        "    keys will be the column names and lists in values will be column data\n",
        "    '''\n",
        "    dfObj = pd.DataFrame(studentData) \n",
        "    print(dfObj)\n",
        "    \n",
        "    print('\\nCreating Dataframe from Dictionary and Custom Indexes\\n')\n",
        "    # Pass custom names of index as list during initialization\n",
        "    dfObj = pd.DataFrame(studentData, index=['a', 'b', 'c'])\n",
        "    print(dfObj)\n",
        "    \n",
        "    print('\\nCreating Dataframe from non compatible Dictionary\\n')\n",
        "    studentAgeData = {\n",
        "        'Jack' : 12,\n",
        "        'Roma' : 13,\n",
        "        'Ritika' : 10,\n",
        "        'Aadi' : 11\n",
        "    }\n",
        "    \n",
        "    '''\n",
        "    Creating dataframe by converting dict to list of items\n",
        "    '''\n",
        "    dfObj = pd.DataFrame(list(studentAgeData.items()), index=['a', 'b', 'c', 'd'])\n",
        "    print(dfObj)\n",
        "    \n",
        "    print('\\nCreating Dataframe from Dictionary by Skipping data\\n')\n",
        "    studentData = {\n",
        "        'name' : ['jack', 'Riti', 'Aadi'],\n",
        "        'age' : [34, 30, 16],\n",
        "        'city' : ['Sydney', 'Delhi', 'New york']\n",
        "    }\n",
        "    \n",
        "    # Creating Dataframe from Dictionary by Skipping 2nd Item from dict\n",
        "    dfObj = pd.DataFrame(studentData, columns=['name', 'city']) \n",
        "    print(dfObj)\n",
        "    \n",
        "    print('\\nCreating Dataframe from Dictionary With different orientation\\n')\n",
        "    # Create dataframe from dic and make keys, index in dataframe\n",
        "    dfObj = pd.DataFrame.from_dict(studentData, orient='index')\n",
        "    print(dfObj)\n",
        "    \n",
        "    print('\\nCreating Dataframe from nested Dictionary\\n')\n",
        "    # Nested Dictionary\n",
        "    studentData = { \n",
        "    0 : {\n",
        "        'name' : 'Aadi',\n",
        "        'age' : 16,\n",
        "        'city' : 'New york'\n",
        "        },\n",
        "    1 : {\n",
        "        'name' : 'Jack',\n",
        "        'age' : 34,\n",
        "        'city' : 'Sydney'\n",
        "        },\n",
        "    2 : {\n",
        "        'name' : 'Riti',\n",
        "        'age' : 30,\n",
        "        'city' : 'Delhi'\n",
        "        }\n",
        "    }\n",
        " \n",
        "    '''\n",
        "    Create dataframe from nested dictionary \n",
        "    '''\n",
        "    dfObj = pd.DataFrame(studentData) \n",
        "    print(dfObj)\n",
        "    print(\"\\nTranspose the dictionary\\n\")\n",
        "    # Transpose dataframe object\n",
        "    dfObj = dfObj.transpose()\n",
        "    print(dfObj)\n",
        " \n",
        "if __name__ == '__main__':\n",
        "    main()"
      ],
      "execution_count": 1,
      "outputs": [
        {
          "output_type": "stream",
          "text": [
            "Creating Dataframe from Dictionary\n",
            "\n",
            "   name  age      city\n",
            "0  jack   34    Sydney\n",
            "1  Riti   30     Delhi\n",
            "2  Aadi   16  New york\n",
            "\n",
            "Creating Dataframe from Dictionary and Custom Indexes\n",
            "\n",
            "   name  age      city\n",
            "a  jack   34    Sydney\n",
            "b  Riti   30     Delhi\n",
            "c  Aadi   16  New york\n",
            "\n",
            "Creating Dataframe from non compatible Dictionary\n",
            "\n",
            "        0   1\n",
            "a    Jack  12\n",
            "b    Roma  13\n",
            "c  Ritika  10\n",
            "d    Aadi  11\n",
            "\n",
            "Creating Dataframe from Dictionary by Skipping data\n",
            "\n",
            "   name      city\n",
            "0  jack    Sydney\n",
            "1  Riti     Delhi\n",
            "2  Aadi  New york\n",
            "\n",
            "Creating Dataframe from Dictionary With different orientation\n",
            "\n",
            "           0      1         2\n",
            "name    jack   Riti      Aadi\n",
            "age       34     30        16\n",
            "city  Sydney  Delhi  New york\n",
            "\n",
            "Creating Dataframe from nested Dictionary\n",
            "\n",
            "             0       1      2\n",
            "name      Aadi    Jack   Riti\n",
            "age         16      34     30\n",
            "city  New york  Sydney  Delhi\n",
            "\n",
            "Transpose the dictionary\n",
            "\n",
            "   name age      city\n",
            "0  Aadi  16  New york\n",
            "1  Jack  34    Sydney\n",
            "2  Riti  30     Delhi\n"
          ],
          "name": "stdout"
        }
      ]
    }
  ]
}