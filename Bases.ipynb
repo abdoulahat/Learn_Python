{
  "nbformat": 4,
  "nbformat_minor": 0,
  "metadata": {
    "colab": {
      "name": "Copie de Apprendre_Python.ipynb",
      "provenance": [],
      "collapsed_sections": [],
      "authorship_tag": "ABX9TyPgjB2y497lYxIZb7CS4rX8",
      "include_colab_link": true
    },
    "kernelspec": {
      "name": "python3",
      "display_name": "Python 3"
    }
  },
  "cells": [
    {
      "cell_type": "markdown",
      "metadata": {
        "id": "view-in-github",
        "colab_type": "text"
      },
      "source": [
        "<a href=\"https://colab.research.google.com/github/abdoulahat/Learn_Python/blob/master/Bases.ipynb\" target=\"_parent\"><img src=\"https://colab.research.google.com/assets/colab-badge.svg\" alt=\"Open In Colab\"/></a>"
      ]
    },
    {
      "cell_type": "markdown",
      "metadata": {
        "id": "GGceTP8LhG-I",
        "colab_type": "text"
      },
      "source": [
        "Ce document est en cours. Je vais donner les détails de chacun des points. Merci pour votre compréhension. \n",
        "\n",
        "Il contient les bases du langage (Strings, List, Tuple et dictionnaires...)"
      ]
    },
    {
      "cell_type": "markdown",
      "metadata": {
        "id": "Z5ZCgIGroIHe",
        "colab_type": "text"
      },
      "source": [
        "##**Les bases**"
      ]
    },
    {
      "cell_type": "markdown",
      "metadata": {
        "id": "zWFANwJ9e9Sr",
        "colab_type": "text"
      },
      "source": [
        "##  **Strings**"
      ]
    },
    {
      "cell_type": "markdown",
      "metadata": {
        "id": "-Vn8eE2Qg3zC",
        "colab_type": "text"
      },
      "source": [
        ""
      ]
    },
    {
      "cell_type": "markdown",
      "metadata": {
        "id": "M8FEn5j-fAxB",
        "colab_type": "text"
      },
      "source": [
        "##  **List**"
      ]
    },
    {
      "cell_type": "markdown",
      "metadata": {
        "id": "eomhfvnkfEz5",
        "colab_type": "text"
      },
      "source": [
        "##  **Tuple**"
      ]
    },
    {
      "cell_type": "markdown",
      "metadata": {
        "id": "GSrNSqeSfH07",
        "colab_type": "text"
      },
      "source": [
        "##  **Dictionary**"
      ]
    }
  ]
}